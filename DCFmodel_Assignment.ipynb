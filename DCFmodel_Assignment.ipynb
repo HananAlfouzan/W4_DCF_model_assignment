{
 "cells": [
  {
   "cell_type": "code",
   "execution_count": 10,
   "id": "74e2805b-e64e-4450-88f6-3371e7102d9e",
   "metadata": {},
   "outputs": [
    {
     "data": {
      "text/html": [
       "<div>\n",
       "<style scoped>\n",
       "    .dataframe tbody tr th:only-of-type {\n",
       "        vertical-align: middle;\n",
       "    }\n",
       "\n",
       "    .dataframe tbody tr th {\n",
       "        vertical-align: top;\n",
       "    }\n",
       "\n",
       "    .dataframe thead th {\n",
       "        text-align: right;\n",
       "    }\n",
       "</style>\n",
       "<table border=\"1\" class=\"dataframe\">\n",
       "  <thead>\n",
       "    <tr style=\"text-align: right;\">\n",
       "      <th></th>\n",
       "      <th>revenue</th>\n",
       "      <th>EBITDA</th>\n",
       "      <th>tax</th>\n",
       "      <th>capital_expenditures</th>\n",
       "      <th>working_capital</th>\n",
       "      <th>cash_flow</th>\n",
       "      <th>discount_factor</th>\n",
       "      <th>present_value_fcf</th>\n",
       "    </tr>\n",
       "  </thead>\n",
       "  <tbody>\n",
       "    <tr>\n",
       "      <th>2021-12-31</th>\n",
       "      <td>222</td>\n",
       "      <td>99.9</td>\n",
       "      <td>-20.979</td>\n",
       "      <td>-6.66</td>\n",
       "      <td>-13.32</td>\n",
       "      <td>72.261</td>\n",
       "      <td>1.000000</td>\n",
       "      <td>72.261</td>\n",
       "    </tr>\n",
       "    <tr>\n",
       "      <th>2022-12-31</th>\n",
       "      <td>261.96</td>\n",
       "      <td>117.882</td>\n",
       "      <td>-24.75522</td>\n",
       "      <td>-7.8588</td>\n",
       "      <td>-15.7176</td>\n",
       "      <td>85.26798</td>\n",
       "      <td>0.940000</td>\n",
       "      <td>80.151901</td>\n",
       "    </tr>\n",
       "    <tr>\n",
       "      <th>2023-12-31</th>\n",
       "      <td>309.1128</td>\n",
       "      <td>139.10076</td>\n",
       "      <td>-29.21116</td>\n",
       "      <td>-9.273384</td>\n",
       "      <td>-18.546768</td>\n",
       "      <td>100.616216</td>\n",
       "      <td>0.883600</td>\n",
       "      <td>88.904489</td>\n",
       "    </tr>\n",
       "    <tr>\n",
       "      <th>2024-12-31</th>\n",
       "      <td>364.753104</td>\n",
       "      <td>164.138897</td>\n",
       "      <td>-34.469168</td>\n",
       "      <td>-10.942593</td>\n",
       "      <td>-21.885186</td>\n",
       "      <td>118.727135</td>\n",
       "      <td>0.830584</td>\n",
       "      <td>98.612859</td>\n",
       "    </tr>\n",
       "    <tr>\n",
       "      <th>2025-12-31</th>\n",
       "      <td>430.408663</td>\n",
       "      <td>193.683898</td>\n",
       "      <td>-40.673619</td>\n",
       "      <td>-12.91226</td>\n",
       "      <td>-25.82452</td>\n",
       "      <td>140.09802</td>\n",
       "      <td>0.780749</td>\n",
       "      <td>109.381383</td>\n",
       "    </tr>\n",
       "    <tr>\n",
       "      <th>2026-12-31</th>\n",
       "      <td>507.882222</td>\n",
       "      <td>228.547</td>\n",
       "      <td>-47.99487</td>\n",
       "      <td>-15.236467</td>\n",
       "      <td>-30.472933</td>\n",
       "      <td>165.315663</td>\n",
       "      <td>0.733904</td>\n",
       "      <td>121.32583</td>\n",
       "    </tr>\n",
       "    <tr>\n",
       "      <th>2027-12-31</th>\n",
       "      <td>599.301022</td>\n",
       "      <td>269.68546</td>\n",
       "      <td>-56.633947</td>\n",
       "      <td>-17.979031</td>\n",
       "      <td>-35.958061</td>\n",
       "      <td>195.072483</td>\n",
       "      <td>0.689870</td>\n",
       "      <td>134.574611</td>\n",
       "    </tr>\n",
       "    <tr>\n",
       "      <th>2028-12-31</th>\n",
       "      <td>707.175206</td>\n",
       "      <td>318.228843</td>\n",
       "      <td>-66.828057</td>\n",
       "      <td>-21.215256</td>\n",
       "      <td>-42.430512</td>\n",
       "      <td>230.18553</td>\n",
       "      <td>0.648478</td>\n",
       "      <td>149.270158</td>\n",
       "    </tr>\n",
       "    <tr>\n",
       "      <th>2029-12-31</th>\n",
       "      <td>834.466743</td>\n",
       "      <td>375.510034</td>\n",
       "      <td>-78.857107</td>\n",
       "      <td>-25.034002</td>\n",
       "      <td>-50.068005</td>\n",
       "      <td>271.618925</td>\n",
       "      <td>0.609569</td>\n",
       "      <td>165.57046</td>\n",
       "    </tr>\n",
       "    <tr>\n",
       "      <th>2030-12-31</th>\n",
       "      <td>984.670757</td>\n",
       "      <td>443.101841</td>\n",
       "      <td>-93.051387</td>\n",
       "      <td>-29.540123</td>\n",
       "      <td>-59.080245</td>\n",
       "      <td>320.510331</td>\n",
       "      <td>0.572995</td>\n",
       "      <td>183.650754</td>\n",
       "    </tr>\n",
       "    <tr>\n",
       "      <th>2031-12-31</th>\n",
       "      <td>1161.911493</td>\n",
       "      <td>522.860172</td>\n",
       "      <td>-109.800636</td>\n",
       "      <td>-34.857345</td>\n",
       "      <td>-69.71469</td>\n",
       "      <td>378.202191</td>\n",
       "      <td>0.538615</td>\n",
       "      <td>203.705416</td>\n",
       "    </tr>\n",
       "    <tr>\n",
       "      <th>2032-12-31</th>\n",
       "      <td>1371.055562</td>\n",
       "      <td>616.975003</td>\n",
       "      <td>-129.564751</td>\n",
       "      <td>-41.131667</td>\n",
       "      <td>-82.263334</td>\n",
       "      <td>446.278585</td>\n",
       "      <td>0.506298</td>\n",
       "      <td>225.950048</td>\n",
       "    </tr>\n",
       "  </tbody>\n",
       "</table>\n",
       "</div>"
      ],
      "text/plain": [
       "                revenue      EBITDA         tax capital_expenditures  \\\n",
       "2021-12-31          222        99.9     -20.979                -6.66   \n",
       "2022-12-31       261.96     117.882   -24.75522              -7.8588   \n",
       "2023-12-31     309.1128   139.10076   -29.21116            -9.273384   \n",
       "2024-12-31   364.753104  164.138897  -34.469168           -10.942593   \n",
       "2025-12-31   430.408663  193.683898  -40.673619            -12.91226   \n",
       "2026-12-31   507.882222     228.547   -47.99487           -15.236467   \n",
       "2027-12-31   599.301022   269.68546  -56.633947           -17.979031   \n",
       "2028-12-31   707.175206  318.228843  -66.828057           -21.215256   \n",
       "2029-12-31   834.466743  375.510034  -78.857107           -25.034002   \n",
       "2030-12-31   984.670757  443.101841  -93.051387           -29.540123   \n",
       "2031-12-31  1161.911493  522.860172 -109.800636           -34.857345   \n",
       "2032-12-31  1371.055562  616.975003 -129.564751           -41.131667   \n",
       "\n",
       "           working_capital   cash_flow  discount_factor present_value_fcf  \n",
       "2021-12-31          -13.32      72.261         1.000000            72.261  \n",
       "2022-12-31        -15.7176    85.26798         0.940000         80.151901  \n",
       "2023-12-31      -18.546768  100.616216         0.883600         88.904489  \n",
       "2024-12-31      -21.885186  118.727135         0.830584         98.612859  \n",
       "2025-12-31       -25.82452   140.09802         0.780749        109.381383  \n",
       "2026-12-31      -30.472933  165.315663         0.733904         121.32583  \n",
       "2027-12-31      -35.958061  195.072483         0.689870        134.574611  \n",
       "2028-12-31      -42.430512   230.18553         0.648478        149.270158  \n",
       "2029-12-31      -50.068005  271.618925         0.609569         165.57046  \n",
       "2030-12-31      -59.080245  320.510331         0.572995        183.650754  \n",
       "2031-12-31       -69.71469  378.202191         0.538615        203.705416  \n",
       "2032-12-31      -82.263334  446.278585         0.506298        225.950048  "
      ]
     },
     "execution_count": 10,
     "metadata": {},
     "output_type": "execute_result"
    }
   ],
   "source": [
    "import pandas as pd\n",
    "import numpy as np\n",
    "##\n",
    "revenue_growth_factor = 0.18\n",
    "EBITDA_margin_rate = 0.45\n",
    "tax_rate = - 0.21\n",
    "capital_expenditures_rate = - 0.03\n",
    "working_capital_increase_rate = - 0.06\n",
    "EDBITA_exit_multiple = 32.7\n",
    "discount_factor = 0.94\n",
    "##\n",
    "index = pd.date_range('2021', periods=12, freq='Y')\n",
    "index\n",
    "##\n",
    "df = pd.DataFrame(index = index, columns = ['revenue'])\n",
    "df['revenue'][0] = 222\n",
    "df\n",
    "##\n",
    "for i in range(1, len(df)):\n",
    " df['revenue'][i] = df['revenue'][0] * (1 + revenue_growth_factor) ** (i)\n",
    "df\n",
    "\n",
    "##\n",
    "df['EBITDA'] = df.revenue * EBITDA_margin_rate\n",
    "df\n",
    "##\n",
    "df['tax'] = df['EBITDA'] * tax_rate\n",
    "df\n",
    "##\n",
    "df['capital_expenditures'] = df['revenue'] * capital_expenditures_rate\n",
    "df\n",
    "##\n",
    "df['working_capital'] = df['revenue'] * working_capital_increase_rate\n",
    "df\n",
    "##\n",
    "df['cash_flow'] = df['EBITDA'] + df['tax'] + df['capital_expenditures']\n",
    "df\n",
    "##\n",
    "df['discount_factor'] = [(discount_factor ** i) for i in range(len(df))]\n",
    "df\n",
    "##\n",
    "df['present_value_fcf'] = df['cash_flow'] * df['discount_factor']\n",
    "df"
   ]
  },
  {
   "cell_type": "code",
   "execution_count": 11,
   "id": "d4c27f4c-c142-4243-9038-70c61d34bfd3",
   "metadata": {},
   "outputs": [
    {
     "data": {
      "text/plain": [
       "2022-12-31     80.151901\n",
       "2023-12-31     88.904489\n",
       "2024-12-31     98.612859\n",
       "2025-12-31    109.381383\n",
       "2026-12-31     121.32583\n",
       "2027-12-31    134.574611\n",
       "2028-12-31    149.270158\n",
       "2029-12-31     165.57046\n",
       "2030-12-31    183.650754\n",
       "2031-12-31    203.705416\n",
       "Freq: A-DEC, Name: present_value_fcf, dtype: object"
      ]
     },
     "execution_count": 11,
     "metadata": {},
     "output_type": "execute_result"
    }
   ],
   "source": [
    "df.present_value_fcf[1:-1]"
   ]
  },
  {
   "cell_type": "code",
   "execution_count": 12,
   "id": "bb6210d5-5dd3-4c20-9d1f-bb678f3dca7d",
   "metadata": {},
   "outputs": [
    {
     "data": {
      "text/plain": [
       "1335.1478615709623"
      ]
     },
     "execution_count": 12,
     "metadata": {},
     "output_type": "execute_result"
    }
   ],
   "source": [
    "present_value_of_projected_fcf = df.present_value_fcf[1:-1].sum()\n",
    "present_value_of_projected_fcf"
   ]
  },
  {
   "cell_type": "code",
   "execution_count": 13,
   "id": "2d9e88c7-cb68-4de1-be3f-9b5f26c3237e",
   "metadata": {},
   "outputs": [
    {
     "data": {
      "text/plain": [
       "616.9750027528825"
      ]
     },
     "execution_count": 13,
     "metadata": {},
     "output_type": "execute_result"
    }
   ],
   "source": [
    "df.EBITDA[-1]"
   ]
  },
  {
   "cell_type": "code",
   "execution_count": 14,
   "id": "c78a3c01-e612-48ba-8cc0-f063004e98b7",
   "metadata": {},
   "outputs": [
    {
     "data": {
      "text/plain": [
       "20175.082590019258"
      ]
     },
     "execution_count": 14,
     "metadata": {},
     "output_type": "execute_result"
    }
   ],
   "source": [
    "terminal_value = EDBITA_exit_multiple * df.EBITDA[-1]\n",
    "terminal_value"
   ]
  },
  {
   "cell_type": "code",
   "execution_count": 15,
   "id": "fe412958-fd55-4cca-905a-9f4eedae30f2",
   "metadata": {},
   "outputs": [
    {
     "data": {
      "text/plain": [
       "2031-12-31    0.538615\n",
       "Freq: A-DEC, Name: discount_factor, dtype: float64"
      ]
     },
     "execution_count": 15,
     "metadata": {},
     "output_type": "execute_result"
    }
   ],
   "source": [
    "df.discount_factor['2031']"
   ]
  },
  {
   "cell_type": "code",
   "execution_count": 16,
   "id": "7d96b012-3643-434e-94e8-faae7c1c1f00",
   "metadata": {},
   "outputs": [
    {
     "data": {
      "text/plain": [
       "10866.60441109724"
      ]
     },
     "execution_count": 16,
     "metadata": {},
     "output_type": "execute_result"
    }
   ],
   "source": [
    "present_value_of_terminal_value = terminal_value * df.discount_factor[-2]\n",
    "present_value_of_terminal_value"
   ]
  },
  {
   "cell_type": "code",
   "execution_count": 17,
   "id": "a639f629-8d6d-4575-a93a-6f33c88f21fc",
   "metadata": {},
   "outputs": [
    {
     "data": {
      "text/plain": [
       "12201.752272668202"
      ]
     },
     "execution_count": 17,
     "metadata": {},
     "output_type": "execute_result"
    }
   ],
   "source": [
    "present_value_of_asset = present_value_of_projected_fcf + present_value_of_terminal_value\n",
    "present_value_of_asset"
   ]
  },
  {
   "cell_type": "code",
   "execution_count": null,
   "id": "5915f74e-2bf9-437a-933f-07d568f482fa",
   "metadata": {},
   "outputs": [],
   "source": [
    "statement = f\"\"\"\n",
    "Our projected Present Value of Projected Future Cash Flows are: {present_valu\n",
    "We are providing revenue guidance in 2032 to be: {df.loc[\"2032\", \"revenue\"].v\n",
    "With an estimated EBITDA around: {df.loc[\"2032\", \"EBITDA\"][0]:.2f}.\n",
    "The terminal value a this time given a multiple of {EDBITA_exit_multiple:.2f}\n",
    "\"\"\"\n",
    "print(statement)"
   ]
  },
  {
   "cell_type": "code",
   "execution_count": null,
   "id": "f1e80f89-6126-4bb2-a637-32e5efb05084",
   "metadata": {},
   "outputs": [],
   "source": []
  }
 ],
 "metadata": {
  "kernelspec": {
   "display_name": "Python 3",
   "language": "python",
   "name": "python3"
  },
  "language_info": {
   "codemirror_mode": {
    "name": "ipython",
    "version": 3
   },
   "file_extension": ".py",
   "mimetype": "text/x-python",
   "name": "python",
   "nbconvert_exporter": "python",
   "pygments_lexer": "ipython3",
   "version": "3.8.8"
  }
 },
 "nbformat": 4,
 "nbformat_minor": 5
}
